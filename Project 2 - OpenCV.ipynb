{
 "cells": [
  {
   "cell_type": "code",
   "execution_count": 1,
   "id": "564d76fa",
   "metadata": {},
   "outputs": [],
   "source": [
    "#pip install opencv-python"
   ]
  },
  {
   "cell_type": "code",
   "execution_count": 2,
   "id": "b3e06679",
   "metadata": {},
   "outputs": [],
   "source": [
    "import numpy as np\n",
    "import cv2 as cv"
   ]
  },
  {
   "cell_type": "markdown",
   "id": "bf517608",
   "metadata": {},
   "source": [
    "#### Reading & Displaying an Image"
   ]
  },
  {
   "cell_type": "markdown",
   "id": "99f84cfd",
   "metadata": {},
   "source": [
    "img1 = cv.imread('sbike.jpg')\n",
    "cv.imshow('My First Image',img1)\n",
    "cv.waitKey(0)\n",
    "cv.destroyAllWindows()"
   ]
  },
  {
   "cell_type": "code",
   "execution_count": 3,
   "id": "88e17bd0",
   "metadata": {},
   "outputs": [],
   "source": [
    "img1 = cv.imread('sbike.jpg')\n",
    "cv.imshow('My First Image',img1)\n",
    "cv.waitKey(0)\n",
    "cv.destroyAllWindows()"
   ]
  },
  {
   "cell_type": "markdown",
   "id": "80550918",
   "metadata": {},
   "source": [
    "#### Playing a Video"
   ]
  },
  {
   "cell_type": "code",
   "execution_count": 4,
   "id": "6dec0827",
   "metadata": {
    "scrolled": true
   },
   "outputs": [],
   "source": [
    "vid1 = cv.VideoCapture('Flag.mp4')\n",
    "while True:\n",
    "    _ , frame = vid1.read()\n",
    "    cv.imshow('My Video',frame)\n",
    "    if cv.waitKey(20) & 0xFF==ord('q'):\n",
    "        break\n",
    "        \n",
    "vid1.release()\n",
    "cv.destroyAllWindows()"
   ]
  },
  {
   "cell_type": "code",
   "execution_count": null,
   "id": "9448e0d2",
   "metadata": {},
   "outputs": [],
   "source": []
  },
  {
   "cell_type": "markdown",
   "id": "12b8b8ea",
   "metadata": {},
   "source": [
    "## Add shapes to an Image"
   ]
  },
  {
   "cell_type": "markdown",
   "id": "8ec94fc9",
   "metadata": {},
   "source": [
    "### Circle"
   ]
  },
  {
   "cell_type": "code",
   "execution_count": 5,
   "id": "96143498",
   "metadata": {},
   "outputs": [],
   "source": [
    "myimg = cv.imread('Golf img.jpg')\n",
    "cv.circle(myimg, (220,330), 70, (155,255,228), thickness = 7)\n",
    "cv.imshow('Image with Circle',myimg)\n",
    "cv.waitKey(0)\n",
    "cv.destroyAllWindows()"
   ]
  },
  {
   "cell_type": "code",
   "execution_count": null,
   "id": "8256346a",
   "metadata": {},
   "outputs": [],
   "source": []
  },
  {
   "cell_type": "markdown",
   "id": "54cec16e",
   "metadata": {},
   "source": [
    "### Rectangle"
   ]
  },
  {
   "cell_type": "code",
   "execution_count": 6,
   "id": "1e0fe6d3",
   "metadata": {},
   "outputs": [],
   "source": [
    "myimg = cv.imread('Mouse.png')\n",
    "cv.rectangle(myimg, (250,15), (15000,8000), (255,155,228), thickness = 10)\n",
    "cv.imshow('Image with Rectangle',myimg)\n",
    "cv.waitKey(0)\n",
    "cv.destroyAllWindows()"
   ]
  },
  {
   "cell_type": "code",
   "execution_count": null,
   "id": "cc7140d5",
   "metadata": {},
   "outputs": [],
   "source": []
  },
  {
   "cell_type": "markdown",
   "id": "f905c094",
   "metadata": {},
   "source": [
    "## Face Detection in Images"
   ]
  },
  {
   "cell_type": "code",
   "execution_count": 7,
   "id": "cbd94dd7",
   "metadata": {},
   "outputs": [],
   "source": [
    "img1= cv.imread('Face.jpg')\n",
    "cv.imshow('Face Image', img1)\n",
    "cv.waitKey()\n",
    "cv.destroyAllWindows()"
   ]
  },
  {
   "cell_type": "code",
   "execution_count": 8,
   "id": "12701653",
   "metadata": {},
   "outputs": [],
   "source": [
    "face_detect = cv.CascadeClassifier(cv.data.haarcascades + 'haarcascade_frontalface_default.xml')"
   ]
  },
  {
   "cell_type": "code",
   "execution_count": 9,
   "id": "db4ab9b0",
   "metadata": {},
   "outputs": [
    {
     "data": {
      "text/plain": [
       "cv2.CascadeClassifier"
      ]
     },
     "execution_count": 9,
     "metadata": {},
     "output_type": "execute_result"
    }
   ],
   "source": [
    "type(face_detect)"
   ]
  },
  {
   "cell_type": "code",
   "execution_count": 22,
   "id": "0833402c",
   "metadata": {
    "scrolled": true
   },
   "outputs": [
    {
     "data": {
      "text/plain": [
       "array([[210,  86, 110, 110]])"
      ]
     },
     "execution_count": 22,
     "metadata": {},
     "output_type": "execute_result"
    }
   ],
   "source": [
    "face_detect.detectMultiScale(img1, scaleFactor=1.1, minNeighbors=5, minSize=(40,40))"
   ]
  },
  {
   "cell_type": "code",
   "execution_count": 23,
   "id": "517c93b2",
   "metadata": {},
   "outputs": [],
   "source": [
    "face_grayscale = cv.cvtColor(img1, cv.COLOR_BGR2GRAY)\n",
    "cv.imshow('Face.jpg',face_grayscale)\n",
    "cv.waitKey(0)\n",
    "cv.destroyAllWindows()"
   ]
  },
  {
   "cell_type": "code",
   "execution_count": 24,
   "id": "20394401",
   "metadata": {},
   "outputs": [],
   "source": [
    "face_detect = cv.CascadeClassifier(cv.data.haarcascades + 'haarcascade_frontalface_default.xml')"
   ]
  },
  {
   "cell_type": "code",
   "execution_count": 33,
   "id": "eed6174c",
   "metadata": {},
   "outputs": [
    {
     "data": {
      "text/plain": [
       "array([[210,  86, 110, 110]])"
      ]
     },
     "execution_count": 33,
     "metadata": {},
     "output_type": "execute_result"
    }
   ],
   "source": [
    "face_cords = face_detect.detectMultiScale(face_grayscale, scaleFactor = 1.1, minNeighbors = 5, minSize = (40,40))\n",
    "face_cords"
   ]
  },
  {
   "cell_type": "code",
   "execution_count": null,
   "id": "61103f6a",
   "metadata": {},
   "outputs": [],
   "source": []
  },
  {
   "cell_type": "markdown",
   "id": "2e5ed050",
   "metadata": {},
   "source": [
    "## Multiple Face Detection in Images"
   ]
  },
  {
   "cell_type": "code",
   "execution_count": 37,
   "id": "45e8d988",
   "metadata": {},
   "outputs": [],
   "source": [
    "faces_1 = cv.imread('Faces1.jfif')\n",
    "cv.imshow('Multiple Face Image', faces_1)\n",
    "cv.waitKey(0)\n",
    "cv.destroyAllWindows()"
   ]
  },
  {
   "cell_type": "code",
   "execution_count": 42,
   "id": "c4bc1fff",
   "metadata": {},
   "outputs": [],
   "source": [
    "faces_1_grayscale = cv.cvtColor(faces_1, cv.COLOR_BGR2GRAY)\n",
    "cv.imshow('image',faces_1_grayscale)\n",
    "cv.waitKey(0)\n",
    "cv.destroyAllWindows()"
   ]
  },
  {
   "cell_type": "code",
   "execution_count": 45,
   "id": "2db5c25d",
   "metadata": {},
   "outputs": [],
   "source": [
    "face_cords = face_detect.detectMultiScale(faces_1_grayscale, scaleFactor = 1.1, minNeighbors = 5, minSize = (40,40))"
   ]
  },
  {
   "cell_type": "code",
   "execution_count": 46,
   "id": "22c2c05f",
   "metadata": {},
   "outputs": [
    {
     "data": {
      "text/plain": [
       "array([[ 22,   9,  49,  49],\n",
       "       [116,  12,  48,  48]])"
      ]
     },
     "execution_count": 46,
     "metadata": {},
     "output_type": "execute_result"
    }
   ],
   "source": [
    "face_cords"
   ]
  },
  {
   "cell_type": "code",
   "execution_count": 49,
   "id": "7c02719e",
   "metadata": {},
   "outputs": [
    {
     "name": "stdout",
     "output_type": "stream",
     "text": [
      "(22, 9) (71, 58)\n",
      "(116, 12) (164, 60)\n"
     ]
    }
   ],
   "source": [
    "for cords in face_cords:\n",
    "    print((cords[0], cords[1]), (cords[0]+cords[2], cords[1]+cords[3]))"
   ]
  },
  {
   "cell_type": "code",
   "execution_count": null,
   "id": "3c3b45c7",
   "metadata": {},
   "outputs": [],
   "source": []
  },
  {
   "cell_type": "markdown",
   "id": "2b29745b",
   "metadata": {},
   "source": [
    "### Face Detection in WebCam Video"
   ]
  },
  {
   "cell_type": "code",
   "execution_count": 54,
   "id": "472b41d9",
   "metadata": {},
   "outputs": [
    {
     "name": "stdout",
     "output_type": "stream",
     "text": [
      "Frame captured succesfully: True\n"
     ]
    }
   ],
   "source": [
    "webcam = cv.VideoCapture(0)\n",
    "cam_status, img = webcam.read()\n",
    "print('Frame captured succesfully:', cam_status)\n",
    "webcam.release()"
   ]
  },
  {
   "cell_type": "code",
   "execution_count": 56,
   "id": "1a249dd1",
   "metadata": {},
   "outputs": [],
   "source": [
    "face_detect = cv.CascadeClassifier(cv.data.haarcascades + 'haarcascade_frontalface_default.xml')"
   ]
  },
  {
   "cell_type": "code",
   "execution_count": 58,
   "id": "783b5883",
   "metadata": {},
   "outputs": [],
   "source": [
    "def detect_faces():\n",
    "    webcam = cv.VideoCapture(0)\n",
    "    while True:\n",
    "        _, frame = webcam.read()\n",
    "        gray_frame = cv.cvtColor(frame, cv.COLOR_BGR2GRAY)\n",
    "        faces = face_detect.detectMultiScale(gray_frame, scaleFactor=1.3, minNeighbors=5)\n",
    "        \n",
    "        for (x, y, w, h) in faces:\n",
    "            cv.rectangle(frame, (x, y), (x+w, y+h), (0, 255, 0), 2)\n",
    "            cv.imshow('Face Detection', frame)\n",
    "            if cv.waitKey(1) & 0xFF == ord('q'):\n",
    "                break\n",
    "    webcam.release()\n",
    "    cv.destroyAllWindows()"
   ]
  },
  {
   "cell_type": "code",
   "execution_count": 59,
   "id": "54918e56",
   "metadata": {},
   "outputs": [
    {
     "data": {
      "text/plain": [
       "<function __main__.detect_faces()>"
      ]
     },
     "execution_count": 59,
     "metadata": {},
     "output_type": "execute_result"
    }
   ],
   "source": [
    "detect_faces"
   ]
  },
  {
   "cell_type": "code",
   "execution_count": 60,
   "id": "0f64d6bc",
   "metadata": {},
   "outputs": [],
   "source": [
    "webcam.release()"
   ]
  },
  {
   "cell_type": "code",
   "execution_count": null,
   "id": "b20e5b2e",
   "metadata": {},
   "outputs": [],
   "source": []
  }
 ],
 "metadata": {
  "kernelspec": {
   "display_name": "Python 3 (ipykernel)",
   "language": "python",
   "name": "python3"
  },
  "language_info": {
   "codemirror_mode": {
    "name": "ipython",
    "version": 3
   },
   "file_extension": ".py",
   "mimetype": "text/x-python",
   "name": "python",
   "nbconvert_exporter": "python",
   "pygments_lexer": "ipython3",
   "version": "3.11.5"
  }
 },
 "nbformat": 4,
 "nbformat_minor": 5
}
